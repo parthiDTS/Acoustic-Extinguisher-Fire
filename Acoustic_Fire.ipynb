{
 "cells": [
  {
   "cell_type": "code",
   "execution_count": 1,
   "id": "5d73ec04-cf3f-4ff0-92ad-e61763cec5ff",
   "metadata": {},
   "outputs": [],
   "source": [
    "import pandas as pd\n",
    "import numpy as np\n",
    "import matplotlib.pyplot as plt                                \n",
    "import seaborn as sns                                          \n",
    "from sklearn.model_selection import train_test_split           \n",
    "from sklearn.neighbors import KNeighborsClassifier              \n",
    "from sklearn.feature_selection import VarianceThreshold         \n",
    "from sklearn.pipeline import Pipeline                         \n",
    "from sklearn.preprocessing import Normalizer, StandardScaler, MinMaxScaler, PowerTransformer, MaxAbsScaler, LabelEncoder, OrdinalEncoder\n",
    "from sklearn.model_selection import GridSearchCV              \n",
    "import warnings\n",
    "warnings.filterwarnings(\"ignore\")"
   ]
  },
  {
   "cell_type": "code",
   "execution_count": 2,
   "id": "6d9092f8-ecc5-417e-9333-cea41eac0bf9",
   "metadata": {},
   "outputs": [
    {
     "data": {
      "text/plain": [
       "(17442, 7)"
      ]
     },
     "execution_count": 2,
     "metadata": {},
     "output_type": "execute_result"
    }
   ],
   "source": [
    "df = pd.read_csv(\"dataset/A_E_Fire_Dataset.csv\")\n",
    "df.shape"
   ]
  },
  {
   "cell_type": "code",
   "execution_count": 3,
   "id": "f122624f-3430-41c4-94fb-8f17f06f39ab",
   "metadata": {},
   "outputs": [
    {
     "data": {
      "text/html": [
       "<div>\n",
       "<style scoped>\n",
       "    .dataframe tbody tr th:only-of-type {\n",
       "        vertical-align: middle;\n",
       "    }\n",
       "\n",
       "    .dataframe tbody tr th {\n",
       "        vertical-align: top;\n",
       "    }\n",
       "\n",
       "    .dataframe thead th {\n",
       "        text-align: right;\n",
       "    }\n",
       "</style>\n",
       "<table border=\"1\" class=\"dataframe\">\n",
       "  <thead>\n",
       "    <tr style=\"text-align: right;\">\n",
       "      <th></th>\n",
       "      <th>SIZE</th>\n",
       "      <th>FUEL</th>\n",
       "      <th>DISTANCE</th>\n",
       "      <th>DESIBEL</th>\n",
       "      <th>AIRFLOW</th>\n",
       "      <th>FREQUENCY</th>\n",
       "      <th>STATUS</th>\n",
       "    </tr>\n",
       "  </thead>\n",
       "  <tbody>\n",
       "    <tr>\n",
       "      <th>0</th>\n",
       "      <td>1</td>\n",
       "      <td>gasoline</td>\n",
       "      <td>10</td>\n",
       "      <td>96</td>\n",
       "      <td>0.0</td>\n",
       "      <td>75</td>\n",
       "      <td>0</td>\n",
       "    </tr>\n",
       "    <tr>\n",
       "      <th>1</th>\n",
       "      <td>1</td>\n",
       "      <td>gasoline</td>\n",
       "      <td>10</td>\n",
       "      <td>96</td>\n",
       "      <td>0.0</td>\n",
       "      <td>72</td>\n",
       "      <td>1</td>\n",
       "    </tr>\n",
       "    <tr>\n",
       "      <th>2</th>\n",
       "      <td>1</td>\n",
       "      <td>gasoline</td>\n",
       "      <td>10</td>\n",
       "      <td>96</td>\n",
       "      <td>2.6</td>\n",
       "      <td>70</td>\n",
       "      <td>1</td>\n",
       "    </tr>\n",
       "    <tr>\n",
       "      <th>3</th>\n",
       "      <td>1</td>\n",
       "      <td>gasoline</td>\n",
       "      <td>10</td>\n",
       "      <td>96</td>\n",
       "      <td>3.2</td>\n",
       "      <td>68</td>\n",
       "      <td>1</td>\n",
       "    </tr>\n",
       "    <tr>\n",
       "      <th>4</th>\n",
       "      <td>1</td>\n",
       "      <td>gasoline</td>\n",
       "      <td>10</td>\n",
       "      <td>109</td>\n",
       "      <td>4.5</td>\n",
       "      <td>67</td>\n",
       "      <td>1</td>\n",
       "    </tr>\n",
       "  </tbody>\n",
       "</table>\n",
       "</div>"
      ],
      "text/plain": [
       "   SIZE      FUEL  DISTANCE  DESIBEL  AIRFLOW  FREQUENCY  STATUS\n",
       "0     1  gasoline        10       96      0.0         75       0\n",
       "1     1  gasoline        10       96      0.0         72       1\n",
       "2     1  gasoline        10       96      2.6         70       1\n",
       "3     1  gasoline        10       96      3.2         68       1\n",
       "4     1  gasoline        10      109      4.5         67       1"
      ]
     },
     "execution_count": 3,
     "metadata": {},
     "output_type": "execute_result"
    }
   ],
   "source": [
    "df.head()"
   ]
  },
  {
   "cell_type": "code",
   "execution_count": 4,
   "id": "e65e2218-87be-4000-97bf-880586a8dd5c",
   "metadata": {},
   "outputs": [
    {
     "data": {
      "text/plain": [
       "((17442, 6), (17442, 1))"
      ]
     },
     "execution_count": 4,
     "metadata": {},
     "output_type": "execute_result"
    }
   ],
   "source": [
    "# The data matrix X\n",
    "X = df.iloc[:, :-1]\n",
    "# The labels\n",
    "y = (df.iloc[:,-1:])\n",
    "\n",
    "X.shape, y.shape"
   ]
  },
  {
   "cell_type": "code",
   "execution_count": 5,
   "id": "ad08c2e7-370d-45d5-a4b0-fe0e35a8efb2",
   "metadata": {},
   "outputs": [
    {
     "data": {
      "text/plain": [
       "FUEL\n",
       "gasoline    5130\n",
       "thinner     5130\n",
       "kerosene    5130\n",
       "lpg         2052\n",
       "Name: count, dtype: int64"
      ]
     },
     "execution_count": 5,
     "metadata": {},
     "output_type": "execute_result"
    }
   ],
   "source": [
    "# Unique values in FUEL column\n",
    "X['FUEL'].value_counts()"
   ]
  },
  {
   "cell_type": "code",
   "execution_count": 6,
   "id": "83972ac5-c294-48e8-a230-24c34f9c231a",
   "metadata": {},
   "outputs": [
    {
     "data": {
      "image/png": "[encoded data removed]",
      "text/plain": [
       "<Figure size 640x480 with 1 Axes>"
      ]
     },
     "metadata": {},
     "output_type": "display_data"
    }
   ],
   "source": [
    "# Plot unique values in FUEL column\n",
    "uniques = X['FUEL'].value_counts()\n",
    "sns.barplot(x = uniques.index, y = uniques.values)\n",
    "plt.xlabel(\"FUEL type\")\n",
    "plt.ylabel(\"Values\")\n",
    "plt.show()"
   ]
  },
  {
   "cell_type": "code",
   "execution_count": 7,
   "id": "baa8baac-f34b-4e22-861d-c08572d3e844",
   "metadata": {},
   "outputs": [],
   "source": [
    "# Ordinal encode input variable\n",
    "ordinal = OrdinalEncoder()\n",
    "X['FUEL'] = ordinal.fit_transform(X[['FUEL']])"
   ]
  },
  {
   "cell_type": "code",
   "execution_count": 8,
   "id": "370803bc-eda0-482e-9ef3-321446bfa9be",
   "metadata": {},
   "outputs": [
    {
     "data": {
      "text/plain": [
       "array([0., 3., 1., 2.])"
      ]
     },
     "execution_count": 8,
     "metadata": {},
     "output_type": "execute_result"
    }
   ],
   "source": [
    "X['FUEL'].unique()"
   ]
  },
  {
   "cell_type": "code",
   "execution_count": 9,
   "id": "f0c3b285-4d9e-4708-9280-326ed79b9dde",
   "metadata": {},
   "outputs": [
    {
     "data": {
      "text/html": [
       "<div>\n",
       "<style scoped>\n",
       "    .dataframe tbody tr th:only-of-type {\n",
       "        vertical-align: middle;\n",
       "    }\n",
       "\n",
       "    .dataframe tbody tr th {\n",
       "        vertical-align: top;\n",
       "    }\n",
       "\n",
       "    .dataframe thead th {\n",
       "        text-align: right;\n",
       "    }\n",
       "</style>\n",
       "<table border=\"1\" class=\"dataframe\">\n",
       "  <thead>\n",
       "    <tr style=\"text-align: right;\">\n",
       "      <th></th>\n",
       "      <th>SIZE</th>\n",
       "      <th>FUEL</th>\n",
       "      <th>DISTANCE</th>\n",
       "      <th>DESIBEL</th>\n",
       "      <th>AIRFLOW</th>\n",
       "      <th>FREQUENCY</th>\n",
       "    </tr>\n",
       "  </thead>\n",
       "  <tbody>\n",
       "    <tr>\n",
       "      <th>17332</th>\n",
       "      <td>7</td>\n",
       "      <td>2.0</td>\n",
       "      <td>170</td>\n",
       "      <td>78</td>\n",
       "      <td>1.4</td>\n",
       "      <td>2</td>\n",
       "    </tr>\n",
       "    <tr>\n",
       "      <th>17333</th>\n",
       "      <td>7</td>\n",
       "      <td>2.0</td>\n",
       "      <td>170</td>\n",
       "      <td>76</td>\n",
       "      <td>0.0</td>\n",
       "      <td>1</td>\n",
       "    </tr>\n",
       "    <tr>\n",
       "      <th>17334</th>\n",
       "      <td>7</td>\n",
       "      <td>2.0</td>\n",
       "      <td>180</td>\n",
       "      <td>104</td>\n",
       "      <td>0.0</td>\n",
       "      <td>75</td>\n",
       "    </tr>\n",
       "    <tr>\n",
       "      <th>17335</th>\n",
       "      <td>7</td>\n",
       "      <td>2.0</td>\n",
       "      <td>180</td>\n",
       "      <td>97</td>\n",
       "      <td>0.0</td>\n",
       "      <td>72</td>\n",
       "    </tr>\n",
       "    <tr>\n",
       "      <th>17336</th>\n",
       "      <td>7</td>\n",
       "      <td>2.0</td>\n",
       "      <td>180</td>\n",
       "      <td>96</td>\n",
       "      <td>0.0</td>\n",
       "      <td>70</td>\n",
       "    </tr>\n",
       "    <tr>\n",
       "      <th>...</th>\n",
       "      <td>...</td>\n",
       "      <td>...</td>\n",
       "      <td>...</td>\n",
       "      <td>...</td>\n",
       "      <td>...</td>\n",
       "      <td>...</td>\n",
       "    </tr>\n",
       "    <tr>\n",
       "      <th>17437</th>\n",
       "      <td>7</td>\n",
       "      <td>2.0</td>\n",
       "      <td>190</td>\n",
       "      <td>86</td>\n",
       "      <td>2.2</td>\n",
       "      <td>5</td>\n",
       "    </tr>\n",
       "    <tr>\n",
       "      <th>17438</th>\n",
       "      <td>7</td>\n",
       "      <td>2.0</td>\n",
       "      <td>190</td>\n",
       "      <td>84</td>\n",
       "      <td>2.0</td>\n",
       "      <td>4</td>\n",
       "    </tr>\n",
       "    <tr>\n",
       "      <th>17439</th>\n",
       "      <td>7</td>\n",
       "      <td>2.0</td>\n",
       "      <td>190</td>\n",
       "      <td>80</td>\n",
       "      <td>1.5</td>\n",
       "      <td>3</td>\n",
       "    </tr>\n",
       "    <tr>\n",
       "      <th>17440</th>\n",
       "      <td>7</td>\n",
       "      <td>2.0</td>\n",
       "      <td>190</td>\n",
       "      <td>76</td>\n",
       "      <td>0.4</td>\n",
       "      <td>2</td>\n",
       "    </tr>\n",
       "    <tr>\n",
       "      <th>17441</th>\n",
       "      <td>7</td>\n",
       "      <td>2.0</td>\n",
       "      <td>190</td>\n",
       "      <td>72</td>\n",
       "      <td>0.0</td>\n",
       "      <td>1</td>\n",
       "    </tr>\n",
       "  </tbody>\n",
       "</table>\n",
       "<p>110 rows × 6 columns</p>\n",
       "</div>"
      ],
      "text/plain": [
       "       SIZE  FUEL  DISTANCE  DESIBEL  AIRFLOW  FREQUENCY\n",
       "17332     7   2.0       170       78      1.4          2\n",
       "17333     7   2.0       170       76      0.0          1\n",
       "17334     7   2.0       180      104      0.0         75\n",
       "17335     7   2.0       180       97      0.0         72\n",
       "17336     7   2.0       180       96      0.0         70\n",
       "...     ...   ...       ...      ...      ...        ...\n",
       "17437     7   2.0       190       86      2.2          5\n",
       "17438     7   2.0       190       84      2.0          4\n",
       "17439     7   2.0       190       80      1.5          3\n",
       "17440     7   2.0       190       76      0.4          2\n",
       "17441     7   2.0       190       72      0.0          1\n",
       "\n",
       "[110 rows x 6 columns]"
      ]
     },
     "execution_count": 9,
     "metadata": {},
     "output_type": "execute_result"
    }
   ],
   "source": [
    "X.tail(110)"
   ]
  },
  {
   "cell_type": "code",
   "execution_count": 10,
   "id": "b8a7c7f5-a77e-4b24-999a-fb9ec21661d1",
   "metadata": {},
   "outputs": [
    {
     "data": {
      "text/html": [
       "<div>\n",
       "<style scoped>\n",
       "    .dataframe tbody tr th:only-of-type {\n",
       "        vertical-align: middle;\n",
       "    }\n",
       "\n",
       "    .dataframe tbody tr th {\n",
       "        vertical-align: top;\n",
       "    }\n",
       "\n",
       "    .dataframe thead th {\n",
       "        text-align: right;\n",
       "    }\n",
       "</style>\n",
       "<table border=\"1\" class=\"dataframe\">\n",
       "  <thead>\n",
       "    <tr style=\"text-align: right;\">\n",
       "      <th></th>\n",
       "      <th>SIZE</th>\n",
       "      <th>FUEL</th>\n",
       "      <th>DISTANCE</th>\n",
       "      <th>DESIBEL</th>\n",
       "      <th>AIRFLOW</th>\n",
       "      <th>FREQUENCY</th>\n",
       "    </tr>\n",
       "  </thead>\n",
       "  <tbody>\n",
       "    <tr>\n",
       "      <th>0</th>\n",
       "      <td>1</td>\n",
       "      <td>0.0</td>\n",
       "      <td>10</td>\n",
       "      <td>96</td>\n",
       "      <td>0.0</td>\n",
       "      <td>75</td>\n",
       "    </tr>\n",
       "    <tr>\n",
       "      <th>1</th>\n",
       "      <td>1</td>\n",
       "      <td>0.0</td>\n",
       "      <td>10</td>\n",
       "      <td>96</td>\n",
       "      <td>0.0</td>\n",
       "      <td>72</td>\n",
       "    </tr>\n",
       "    <tr>\n",
       "      <th>2</th>\n",
       "      <td>1</td>\n",
       "      <td>0.0</td>\n",
       "      <td>10</td>\n",
       "      <td>96</td>\n",
       "      <td>2.6</td>\n",
       "      <td>70</td>\n",
       "    </tr>\n",
       "    <tr>\n",
       "      <th>3</th>\n",
       "      <td>1</td>\n",
       "      <td>0.0</td>\n",
       "      <td>10</td>\n",
       "      <td>96</td>\n",
       "      <td>3.2</td>\n",
       "      <td>68</td>\n",
       "    </tr>\n",
       "    <tr>\n",
       "      <th>4</th>\n",
       "      <td>1</td>\n",
       "      <td>0.0</td>\n",
       "      <td>10</td>\n",
       "      <td>109</td>\n",
       "      <td>4.5</td>\n",
       "      <td>67</td>\n",
       "    </tr>\n",
       "  </tbody>\n",
       "</table>\n",
       "</div>"
      ],
      "text/plain": [
       "   SIZE  FUEL  DISTANCE  DESIBEL  AIRFLOW  FREQUENCY\n",
       "0     1   0.0        10       96      0.0         75\n",
       "1     1   0.0        10       96      0.0         72\n",
       "2     1   0.0        10       96      2.6         70\n",
       "3     1   0.0        10       96      3.2         68\n",
       "4     1   0.0        10      109      4.5         67"
      ]
     },
     "execution_count": 10,
     "metadata": {},
     "output_type": "execute_result"
    }
   ],
   "source": [
    "X.head()"
   ]
  },
  {
   "cell_type": "code",
   "execution_count": 11,
   "id": "9f7f96c4-1d76-46d6-88a1-915888778282",
   "metadata": {},
   "outputs": [
    {
     "data": {
      "text/html": [
       "<div>\n",
       "<style scoped>\n",
       "    .dataframe tbody tr th:only-of-type {\n",
       "        vertical-align: middle;\n",
       "    }\n",
       "\n",
       "    .dataframe tbody tr th {\n",
       "        vertical-align: top;\n",
       "    }\n",
       "\n",
       "    .dataframe thead th {\n",
       "        text-align: right;\n",
       "    }\n",
       "</style>\n",
       "<table border=\"1\" class=\"dataframe\">\n",
       "  <thead>\n",
       "    <tr style=\"text-align: right;\">\n",
       "      <th></th>\n",
       "      <th>STATUS</th>\n",
       "    </tr>\n",
       "  </thead>\n",
       "  <tbody>\n",
       "    <tr>\n",
       "      <th>0</th>\n",
       "      <td>0</td>\n",
       "    </tr>\n",
       "    <tr>\n",
       "      <th>1</th>\n",
       "      <td>1</td>\n",
       "    </tr>\n",
       "    <tr>\n",
       "      <th>2</th>\n",
       "      <td>1</td>\n",
       "    </tr>\n",
       "    <tr>\n",
       "      <th>3</th>\n",
       "      <td>1</td>\n",
       "    </tr>\n",
       "    <tr>\n",
       "      <th>4</th>\n",
       "      <td>1</td>\n",
       "    </tr>\n",
       "    <tr>\n",
       "      <th>...</th>\n",
       "      <td>...</td>\n",
       "    </tr>\n",
       "    <tr>\n",
       "      <th>17437</th>\n",
       "      <td>0</td>\n",
       "    </tr>\n",
       "    <tr>\n",
       "      <th>17438</th>\n",
       "      <td>0</td>\n",
       "    </tr>\n",
       "    <tr>\n",
       "      <th>17439</th>\n",
       "      <td>0</td>\n",
       "    </tr>\n",
       "    <tr>\n",
       "      <th>17440</th>\n",
       "      <td>0</td>\n",
       "    </tr>\n",
       "    <tr>\n",
       "      <th>17441</th>\n",
       "      <td>0</td>\n",
       "    </tr>\n",
       "  </tbody>\n",
       "</table>\n",
       "<p>17442 rows × 1 columns</p>\n",
       "</div>"
      ],
      "text/plain": [
       "       STATUS\n",
       "0           0\n",
       "1           1\n",
       "2           1\n",
       "3           1\n",
       "4           1\n",
       "...       ...\n",
       "17437       0\n",
       "17438       0\n",
       "17439       0\n",
       "17440       0\n",
       "17441       0\n",
       "\n",
       "[17442 rows x 1 columns]"
      ]
     },
     "execution_count": 11,
     "metadata": {},
     "output_type": "execute_result"
    }
   ],
   "source": [
    "y"
   ]
  },
  {
   "cell_type": "code",
   "execution_count": 12,
   "id": "1e3d1340-9dca-44ea-9df5-a0139b7c8f23",
   "metadata": {},
   "outputs": [
    {
     "name": "stdout",
     "output_type": "stream",
     "text": [
      "(11628, 6)\n",
      "(5814, 6)\n"
     ]
    }
   ],
   "source": [
    "# Split the data into train and test\n",
    "X_train, X_test, y_train, y_test = train_test_split(X,                  # predictors\n",
    "                                                    y,                  # labels\n",
    "                                                    test_size=1/3,      # test set size\n",
    "                                                    random_state=0)     # set random number generator seed for reproducibility\n",
    "\n",
    "print(X_train.shape)\n",
    "print(X_test.shape)"
   ]
  },
  {
   "cell_type": "code",
   "execution_count": 13,
   "id": "9618b21c-de47-460c-8b7e-27e20ee50aae",
   "metadata": {},
   "outputs": [
    {
     "name": "stdout",
     "output_type": "stream",
     "text": [
      "Training set score: 94.26%\n",
      "Test set score: 91.61%\n"
     ]
    }
   ],
   "source": [
    "# Instantiate KNN classifier and fit on train set\n",
    "knn = KNeighborsClassifier().fit(X_train, y_train)\n",
    "\n",
    "# Performance on train and test sets\n",
    "print('Training set score: ' + str(round(knn.score(X_train,y_train)*100,2))+\"%\")\n",
    "print('Test set score: ' + str(round(knn.score(X_test,y_test)*100,2))+\"%\")"
   ]
  },
  {
   "cell_type": "code",
   "execution_count": 14,
   "id": "6ace228b-c72c-48f7-87e3-741fc62e0c7b",
   "metadata": {},
   "outputs": [],
   "source": [
    "# Setup pipeline\n",
    "pipe = Pipeline([('scaler', StandardScaler()),\n",
    "                 ('selector', VarianceThreshold()),\n",
    "                 ('classifier', KNeighborsClassifier())\n",
    "                 ])"
   ]
  },
  {
   "cell_type": "code",
   "execution_count": 15,
   "id": "286a9801-334e-408c-938e-bda0fc6025b0",
   "metadata": {},
   "outputs": [
    {
     "name": "stdout",
     "output_type": "stream",
     "text": [
      "Training set score: 97.65%\n",
      "Test set score: 96.13%\n"
     ]
    }
   ],
   "source": [
    "# Fit pipeline on train set\n",
    "pipe.fit(X_train, y_train)\n",
    "\n",
    "\n",
    "# Performance on train and test sets\n",
    "print('Training set score: ' + str(round(pipe.score(X_train,y_train)*100,2))+\"%\")\n",
    "print('Test set score: ' + str(round(pipe.score(X_test,y_test)*100,2))+\"%\")"
   ]
  },
  {
   "cell_type": "code",
   "execution_count": 16,
   "id": "3d603820-2968-4552-b26e-8448348819d0",
   "metadata": {},
   "outputs": [],
   "source": [
    "parameters = {'scaler': [StandardScaler(), MinMaxScaler(), Normalizer(), MaxAbsScaler()],\n",
    "              'selector__threshold': [0, 0.001, 0.01],\n",
    "\t\t\t  'classifier__n_neighbors': [1, 3, 5, 7, 10],           # Number of neighbors to use by default for k-neighbors\n",
    "\t\t\t  'classifier__p': [1, 2],                               # Power parameter for the Minkowski metric\n",
    "\t\t\t  'classifier__leaf_size': [1, 5, 10, 15]                # Leaf size passed to BallTree or KDTree. This can affect the speed of the\n",
    "\t\t\t  }                                                      # construction and query, as well as the memory required to store the tree"
   ]
  },
  {
   "cell_type": "code",
   "execution_count": 17,
   "id": "ab14bdd3-d32c-4f52-9564-13eeb9c6306b",
   "metadata": {},
   "outputs": [
    {
     "name": "stdout",
     "output_type": "stream",
     "text": [
      "Training set score: 98.0%\n",
      "Test set score: 96.85%\n"
     ]
    }
   ],
   "source": [
    "# Instantiate GridSearchCV\n",
    "grid = GridSearchCV(pipe, parameters, cv=2).fit(X_train, y_train)\n",
    "\n",
    "# Performance on train and test sets\n",
    "print('Training set score: ' + str(round(grid.score(X_train,y_train)*100,2))+\"%\")\n",
    "print('Test set score: ' + str(round(grid.score(X_test,y_test)*100,2))+\"%\")"
   ]
  },
  {
   "cell_type": "code",
   "execution_count": 18,
   "id": "dfc639b3-fddc-491e-9539-bf119222ae39",
   "metadata": {},
   "outputs": [
    {
     "name": "stdout",
     "output_type": "stream",
     "text": [
      "{'classifier__leaf_size': 15, 'classifier__n_neighbors': 5, 'classifier__p': 1, 'scaler': MaxAbsScaler(), 'selector__threshold': 0}\n",
      "Pipeline(steps=[('scaler', MaxAbsScaler()),\n",
      "                ('selector', VarianceThreshold(threshold=0)),\n",
      "                ('classifier', KNeighborsClassifier(leaf_size=15, p=1))])\n"
     ]
    }
   ],
   "source": [
    "# Access the best set of parameters\n",
    "best_params = grid.best_params_\n",
    "print(best_params)\n",
    "\n",
    "# Stores the optimum model in best_pipe\n",
    "best_pipe = grid.best_estimator_\n",
    "print(best_pipe)"
   ]
  },
  {
   "cell_type": "code",
   "execution_count": 19,
   "id": "cd06c495-ece3-47f0-8546-c5b076fb0efe",
   "metadata": {},
   "outputs": [
    {
     "name": "stdout",
     "output_type": "stream",
     "text": [
      "Index(['mean_fit_time', 'std_fit_time', 'mean_score_time', 'std_score_time',\n",
      "       'param_classifier__leaf_size', 'param_classifier__n_neighbors',\n",
      "       'param_classifier__p', 'param_scaler', 'param_selector__threshold',\n",
      "       'params', 'split0_test_score', 'split1_test_score', 'mean_test_score',\n",
      "       'std_test_score', 'rank_test_score'],\n",
      "      dtype='object')\n"
     ]
    }
   ],
   "source": [
    "# Create a dataframe\n",
    "result_df = pd.DataFrame.from_dict(grid.cv_results_, orient='columns')\n",
    "print(result_df.columns)"
   ]
  },
  {
   "cell_type": "code",
   "execution_count": 20,
   "id": "b7b04f92-35d5-4969-a194-cccb89096c6e",
   "metadata": {},
   "outputs": [
    {
     "data": {
      "text/plain": [
       "(480, 15)"
      ]
     },
     "execution_count": 20,
     "metadata": {},
     "output_type": "execute_result"
    }
   ],
   "source": [
    "result_df.shape"
   ]
  },
  {
   "cell_type": "code",
   "execution_count": 21,
   "id": "37467d5e-5ea8-48bc-8123-08bf83197bea",
   "metadata": {},
   "outputs": [
    {
     "data": {
      "text/html": [
       "<div>\n",
       "<style scoped>\n",
       "    .dataframe tbody tr th:only-of-type {\n",
       "        vertical-align: middle;\n",
       "    }\n",
       "\n",
       "    .dataframe tbody tr th {\n",
       "        vertical-align: top;\n",
       "    }\n",
       "\n",
       "    .dataframe thead th {\n",
       "        text-align: right;\n",
       "    }\n",
       "</style>\n",
       "<table border=\"1\" class=\"dataframe\">\n",
       "  <thead>\n",
       "    <tr style=\"text-align: right;\">\n",
       "      <th></th>\n",
       "      <th>mean_fit_time</th>\n",
       "      <th>std_fit_time</th>\n",
       "      <th>mean_score_time</th>\n",
       "      <th>std_score_time</th>\n",
       "      <th>param_classifier__leaf_size</th>\n",
       "      <th>param_classifier__n_neighbors</th>\n",
       "      <th>param_classifier__p</th>\n",
       "      <th>param_scaler</th>\n",
       "      <th>param_selector__threshold</th>\n",
       "      <th>params</th>\n",
       "      <th>split0_test_score</th>\n",
       "      <th>split1_test_score</th>\n",
       "      <th>mean_test_score</th>\n",
       "      <th>std_test_score</th>\n",
       "      <th>rank_test_score</th>\n",
       "    </tr>\n",
       "  </thead>\n",
       "  <tbody>\n",
       "    <tr>\n",
       "      <th>0</th>\n",
       "      <td>0.076111</td>\n",
       "      <td>0.012577</td>\n",
       "      <td>1.540887</td>\n",
       "      <td>0.199390</td>\n",
       "      <td>1</td>\n",
       "      <td>1</td>\n",
       "      <td>1</td>\n",
       "      <td>StandardScaler()</td>\n",
       "      <td>0.000</td>\n",
       "      <td>{'classifier__leaf_size': 1, 'classifier__n_ne...</td>\n",
       "      <td>0.946508</td>\n",
       "      <td>0.947196</td>\n",
       "      <td>0.946852</td>\n",
       "      <td>0.000344</td>\n",
       "      <td>343</td>\n",
       "    </tr>\n",
       "    <tr>\n",
       "      <th>1</th>\n",
       "      <td>0.056764</td>\n",
       "      <td>0.006572</td>\n",
       "      <td>1.600760</td>\n",
       "      <td>0.201161</td>\n",
       "      <td>1</td>\n",
       "      <td>1</td>\n",
       "      <td>1</td>\n",
       "      <td>StandardScaler()</td>\n",
       "      <td>0.001</td>\n",
       "      <td>{'classifier__leaf_size': 1, 'classifier__n_ne...</td>\n",
       "      <td>0.946508</td>\n",
       "      <td>0.947196</td>\n",
       "      <td>0.946852</td>\n",
       "      <td>0.000344</td>\n",
       "      <td>343</td>\n",
       "    </tr>\n",
       "    <tr>\n",
       "      <th>2</th>\n",
       "      <td>0.138359</td>\n",
       "      <td>0.010414</td>\n",
       "      <td>1.831340</td>\n",
       "      <td>0.212370</td>\n",
       "      <td>1</td>\n",
       "      <td>1</td>\n",
       "      <td>1</td>\n",
       "      <td>StandardScaler()</td>\n",
       "      <td>0.010</td>\n",
       "      <td>{'classifier__leaf_size': 1, 'classifier__n_ne...</td>\n",
       "      <td>0.946508</td>\n",
       "      <td>0.947196</td>\n",
       "      <td>0.946852</td>\n",
       "      <td>0.000344</td>\n",
       "      <td>343</td>\n",
       "    </tr>\n",
       "    <tr>\n",
       "      <th>3</th>\n",
       "      <td>0.110540</td>\n",
       "      <td>0.013072</td>\n",
       "      <td>1.655822</td>\n",
       "      <td>0.399015</td>\n",
       "      <td>1</td>\n",
       "      <td>1</td>\n",
       "      <td>1</td>\n",
       "      <td>MinMaxScaler()</td>\n",
       "      <td>0.000</td>\n",
       "      <td>{'classifier__leaf_size': 1, 'classifier__n_ne...</td>\n",
       "      <td>0.949776</td>\n",
       "      <td>0.951840</td>\n",
       "      <td>0.950808</td>\n",
       "      <td>0.001032</td>\n",
       "      <td>205</td>\n",
       "    </tr>\n",
       "    <tr>\n",
       "      <th>4</th>\n",
       "      <td>0.080777</td>\n",
       "      <td>0.008838</td>\n",
       "      <td>1.174331</td>\n",
       "      <td>0.085755</td>\n",
       "      <td>1</td>\n",
       "      <td>1</td>\n",
       "      <td>1</td>\n",
       "      <td>MinMaxScaler()</td>\n",
       "      <td>0.001</td>\n",
       "      <td>{'classifier__leaf_size': 1, 'classifier__n_ne...</td>\n",
       "      <td>0.949776</td>\n",
       "      <td>0.951840</td>\n",
       "      <td>0.950808</td>\n",
       "      <td>0.001032</td>\n",
       "      <td>205</td>\n",
       "    </tr>\n",
       "  </tbody>\n",
       "</table>\n",
       "</div>"
      ],
      "text/plain": [
       "   mean_fit_time  std_fit_time  mean_score_time  std_score_time  \\\n",
       "0       0.076111      0.012577         1.540887        0.199390   \n",
       "1       0.056764      0.006572         1.600760        0.201161   \n",
       "2       0.138359      0.010414         1.831340        0.212370   \n",
       "3       0.110540      0.013072         1.655822        0.399015   \n",
       "4       0.080777      0.008838         1.174331        0.085755   \n",
       "\n",
       "   param_classifier__leaf_size  param_classifier__n_neighbors  \\\n",
       "0                            1                              1   \n",
       "1                            1                              1   \n",
       "2                            1                              1   \n",
       "3                            1                              1   \n",
       "4                            1                              1   \n",
       "\n",
       "   param_classifier__p      param_scaler  param_selector__threshold  \\\n",
       "0                    1  StandardScaler()                      0.000   \n",
       "1                    1  StandardScaler()                      0.001   \n",
       "2                    1  StandardScaler()                      0.010   \n",
       "3                    1    MinMaxScaler()                      0.000   \n",
       "4                    1    MinMaxScaler()                      0.001   \n",
       "\n",
       "                                              params  split0_test_score  \\\n",
       "0  {'classifier__leaf_size': 1, 'classifier__n_ne...           0.946508   \n",
       "1  {'classifier__leaf_size': 1, 'classifier__n_ne...           0.946508   \n",
       "2  {'classifier__leaf_size': 1, 'classifier__n_ne...           0.946508   \n",
       "3  {'classifier__leaf_size': 1, 'classifier__n_ne...           0.949776   \n",
       "4  {'classifier__leaf_size': 1, 'classifier__n_ne...           0.949776   \n",
       "\n",
       "   split1_test_score  mean_test_score  std_test_score  rank_test_score  \n",
       "0           0.947196         0.946852        0.000344              343  \n",
       "1           0.947196         0.946852        0.000344              343  \n",
       "2           0.947196         0.946852        0.000344              343  \n",
       "3           0.951840         0.950808        0.001032              205  \n",
       "4           0.951840         0.950808        0.001032              205  "
      ]
     },
     "execution_count": 21,
     "metadata": {},
     "output_type": "execute_result"
    }
   ],
   "source": [
    "result_df.head()"
   ]
  },
  {
   "cell_type": "code",
   "execution_count": 22,
   "id": "65360ff6-9f90-47fc-92e7-59d486f36254",
   "metadata": {},
   "outputs": [
    {
     "data": {
      "image/png": "[encoded data removed]",
      "text/plain": [
       "<Figure size 1167.5x500 with 2 Axes>"
      ]
     },
     "metadata": {},
     "output_type": "display_data"
    }
   ],
   "source": [
    "# Let’s see how `n_neighbors` affect the performance for different `scalers`, and for different values of `p`.\n",
    "\n",
    "sns.relplot(data = result_df,\n",
    "            kind = 'line',\n",
    "\t\t\tx = 'param_classifier__n_neighbors',\n",
    "\t\t\ty = 'mean_test_score',\n",
    "\t\t\thue = 'param_scaler',\n",
    "\t\t\tcol = 'param_classifier__p')\n",
    "plt.show()"
   ]
  },
  {
   "cell_type": "code",
   "execution_count": 23,
   "id": "ded21c6b-bf9d-4e86-8744-a41a6b465a2b",
   "metadata": {},
   "outputs": [
    {
     "data": {
      "image/png": "[encoded data removed]",
      "text/plain": [
       "<Figure size 2167.5x500 with 4 Axes>"
      ]
     },
     "metadata": {},
     "output_type": "display_data"
    }
   ],
   "source": [
    "#  Let’s see how n_neighbors affect the performance for different scalers, and for different values of leaf_size.\n",
    "sns.relplot(data = result_df,\n",
    "            kind = 'line',\n",
    "            x = 'param_classifier__n_neighbors',\n",
    "            y = 'mean_test_score',\n",
    "            hue = 'param_scaler',\n",
    "            col = 'param_classifier__leaf_size')\n",
    "plt.show()"
   ]
  },
  {
   "cell_type": "code",
   "execution_count": 24,
   "id": "d3ccf5c5-2fa0-4f34-9868-97006458bce7",
   "metadata": {},
   "outputs": [
    {
     "data": {
      "text/plain": [
       "['KNN_model.pkl']"
      ]
     },
     "execution_count": 24,
     "metadata": {},
     "output_type": "execute_result"
    }
   ],
   "source": [
    "import joblib\n",
    "joblib.dump(knn,\"KNN_model.pkl\")"
   ]
  },
  {
   "cell_type": "code",
   "execution_count": 25,
   "id": "c6af1809-73b5-410c-8246-a07d97e658f4",
   "metadata": {},
   "outputs": [
    {
     "name": "stdout",
     "output_type": "stream",
     "text": [
      "🔥 Acoustic Fire Extinguisher Manual Testing 🔥\n",
      "Enter the following details:\n"
     ]
    },
    {
     "name": "stdin",
     "output_type": "stream",
     "text": [
      "Flame Size (e.g., 3.0):  1\n",
      "Fuel Type (Gasoline, Thinner, Kerosene, LPG):  gasoline\n",
      "Distance from flame (cm):  10\n",
      "Sound intensity (dB):  96\n",
      "Airflow (m/s):  0\n",
      "Sound frequency (Hz):  75\n"
     ]
    },
    {
     "name": "stdout",
     "output_type": "stream",
     "text": [
      "✅ RESULT: ❌ Fire NOT extinguished!\n"
     ]
    }
   ],
   "source": [
    "import numpy as np\n",
    "from joblib import load\n",
    "\n",
    "# Load the trained model\n",
    "model = load(\"KNN_model.pkl\")\n",
    "\n",
    "print(\"🔥 Acoustic Fire Extinguisher Manual Testing 🔥\")\n",
    "print(\"Enter the following details:\")\n",
    "\n",
    "# Manual user inputs\n",
    "SIZE = float(input(\"Flame Size (e.g., 3.0): \"))\n",
    "FUEL = input(\"Fuel Type (Gasoline, Thinner, Kerosene, LPG): \").strip().capitalize()\n",
    "DISTANCE = float(input(\"Distance from flame (cm): \"))\n",
    "DESIBEL = float(input(\"Sound intensity (dB): \"))\n",
    "AIRFLOW = float(input(\"Airflow (m/s): \"))\n",
    "FREQUENCY = float(input(\"Sound frequency (Hz): \"))\n",
    "\n",
    "# Fuel encoding used during training\n",
    "fuel_encoding = {\n",
    "    'Gasoline': 0,\n",
    "    'Thinner': 1,\n",
    "    'Kerosene': 2,\n",
    "    'LPG': 3\n",
    "}\n",
    "FUEL_ENCODED = fuel_encoding.get(FUEL, -1)\n",
    "\n",
    "if FUEL_ENCODED == -1:\n",
    "    print(\"❌ Invalid fuel type. Please enter one of:\", list(fuel_encoding.keys()))\n",
    "else:\n",
    "    test_input = np.array([[SIZE, FUEL_ENCODED, DISTANCE, DESIBEL, AIRFLOW, FREQUENCY]])\n",
    "    prediction = model.predict(test_input)\n",
    "    print(\"✅ RESULT:\", \"🔥 Fire extinguished!\" if prediction[0] == 1 else \"❌ Fire NOT extinguished!\")\n"
   ]
  },
  {
   "cell_type": "code",
   "execution_count": 27,
   "id": "191caddb-701b-4ec5-a35c-af43e5c05384",
   "metadata": {},
   "outputs": [
    {
     "name": "stdout",
     "output_type": "stream",
     "text": [
      "🔥 Acoustic Fire Extinguisher Manual Testing 🔥\n",
      "Enter the following details:\n"
     ]
    },
    {
     "name": "stdin",
     "output_type": "stream",
     "text": [
      "Flame Size (e.g., 3.0):  1\n",
      "Fuel Type (Gasoline, Thinner, Kerosene, LPG):  gasoline\n",
      "Distance from flame (cm):  10\n",
      "Sound intensity (dB):  96\n",
      "Airflow (m/s):  0\n",
      "Sound frequency (Hz):  72\n"
     ]
    },
    {
     "name": "stdout",
     "output_type": "stream",
     "text": [
      "✅ RESULT: ❌ Fire NOT extinguished!\n"
     ]
    }
   ],
   "source": [
    "import numpy as np\n",
    "from joblib import load\n",
    "\n",
    "# Load the trained model\n",
    "model = load(\"KNN_model.pkl\")\n",
    "\n",
    "print(\"🔥 Acoustic Fire Extinguisher Manual Testing 🔥\")\n",
    "print(\"Enter the following details:\")\n",
    "\n",
    "# Manual user inputs\n",
    "SIZE = float(input(\"Flame Size (e.g., 3.0): \"))\n",
    "FUEL = input(\"Fuel Type (Gasoline, Thinner, Kerosene, LPG): \").strip().capitalize()\n",
    "DISTANCE = float(input(\"Distance from flame (cm): \"))\n",
    "DESIBEL = float(input(\"Sound intensity (dB): \"))\n",
    "AIRFLOW = float(input(\"Airflow (m/s): \"))\n",
    "FREQUENCY = float(input(\"Sound frequency (Hz): \"))\n",
    "\n",
    "# Fuel encoding used during training\n",
    "fuel_encoding = {\n",
    "    'Gasoline': 0,\n",
    "    'Thinner': 1,\n",
    "    'Kerosene': 2,\n",
    "    'LPG': 3\n",
    "}\n",
    "FUEL_ENCODED = fuel_encoding.get(FUEL, -1)\n",
    "\n",
    "if FUEL_ENCODED == -1:\n",
    "    print(\"❌ Invalid fuel type. Please enter one of:\", list(fuel_encoding.keys()))\n",
    "else:\n",
    "    test_input = np.array([[SIZE, FUEL_ENCODED, DISTANCE, DESIBEL, AIRFLOW, FREQUENCY]])\n",
    "    prediction = model.predict(test_input)\n",
    "    print(\"✅ RESULT:\", \"🔥 Fire extinguished!\" if prediction[0] == 1 else \"❌ Fire NOT extinguished!\")\n"
   ]
  },
  {
   "cell_type": "code",
   "execution_count": 28,
   "id": "56103d5e-2e6b-4e44-8cf0-2797f14d4364",
   "metadata": {},
   "outputs": [
    {
     "name": "stdout",
     "output_type": "stream",
     "text": [
      "🔥 Acoustic Fire Extinguisher Manual Testing 🔥\n",
      "Enter the following details:\n"
     ]
    },
    {
     "name": "stdin",
     "output_type": "stream",
     "text": [
      "Flame Size (e.g., 3.0):  1\n",
      "Fuel Type (Gasoline, Thinner, Kerosene, LPG):  gasoline\n",
      "Distance from flame (cm):  10\n",
      "Sound intensity (dB):  96\n",
      "Airflow (m/s):  2.6\n",
      "Sound frequency (Hz):  70\n"
     ]
    },
    {
     "name": "stdout",
     "output_type": "stream",
     "text": [
      "✅ RESULT: 🔥 Fire extinguished!\n"
     ]
    }
   ],
   "source": [
    "import numpy as np\n",
    "from joblib import load\n",
    "\n",
    "# Load the trained model\n",
    "model = load(\"KNN_model.pkl\")\n",
    "\n",
    "print(\"🔥 Acoustic Fire Extinguisher Manual Testing 🔥\")\n",
    "print(\"Enter the following details:\")\n",
    "\n",
    "# Manual user inputs\n",
    "SIZE = float(input(\"Flame Size (e.g., 3.0): \"))\n",
    "FUEL = input(\"Fuel Type (Gasoline, Thinner, Kerosene, LPG): \").strip().capitalize()\n",
    "DISTANCE = float(input(\"Distance from flame (cm): \"))\n",
    "DESIBEL = float(input(\"Sound intensity (dB): \"))\n",
    "AIRFLOW = float(input(\"Airflow (m/s): \"))\n",
    "FREQUENCY = float(input(\"Sound frequency (Hz): \"))\n",
    "\n",
    "# Fuel encoding used during training\n",
    "fuel_encoding = {\n",
    "    'Gasoline': 0,\n",
    "    'Thinner': 1,\n",
    "    'Kerosene': 2,\n",
    "    'LPG': 3\n",
    "}\n",
    "FUEL_ENCODED = fuel_encoding.get(FUEL, -1)\n",
    "\n",
    "if FUEL_ENCODED == -1:\n",
    "    print(\"❌ Invalid fuel type. Please enter one of:\", list(fuel_encoding.keys()))\n",
    "else:\n",
    "    test_input = np.array([[SIZE, FUEL_ENCODED, DISTANCE, DESIBEL, AIRFLOW, FREQUENCY]])\n",
    "    prediction = model.predict(test_input)\n",
    "    print(\"✅ RESULT:\", \"🔥 Fire extinguished!\" if prediction[0] == 1 else \"❌ Fire NOT extinguished!\")\n"
   ]
  },
  {
   "cell_type": "code",
   "execution_count": null,
   "id": "4c332a7b-241e-404c-9da4-dd7e11292858",
   "metadata": {},
   "outputs": [],
   "source": []
  }
 ],
 "metadata": {
  "kernelspec": {
   "display_name": "Python 3 (ipykernel)",
   "language": "python",
   "name": "python3"
  },
  "language_info": {
   "codemirror_mode": {
    "name": "ipython",
    "version": 3
   },
   "file_extension": ".py",
   "mimetype": "text/x-python",
   "name": "python",
   "nbconvert_exporter": "python",
   "pygments_lexer": "ipython3",
   "version": "3.12.5"
  }
 },
 "nbformat": 4,
 "nbformat_minor": 5
}
